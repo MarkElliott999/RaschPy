{
 "cells": [
  {
   "cell_type": "markdown",
   "id": "62ce754e-5e37-4d6a-a9c4-bc833fe8b97d",
   "metadata": {},
   "source": [
    "## *RaschPy* simulation functionality\n",
    "\n",
    "This notebook works through examples of how to generate simulated data sets with `RaschPy` for experimental use where knowledge of the underlying 'ground truth' of the generating parameters is useful, for example when comparing the efficacy of different estimation algorithms, such as in Elliott & Buttery (2022a) or exploring the effect of fitting different Rasch models to the same data set, such as in Elliott & Buttery (2022b). There are separate classes for each model: `SLM_Sim` for the simple logistic model (or dichotomous Rasch model) (Rasch, 1960), `PCM_Sim` for the partial credit model (Masters, 1982), `RSM_Sim` for the rating scale model (Andrich, 1978), `MFRM_Sim_Global` for the many-facet Rasch model (Linacre, 1994), `MFRM_Sim_Items` for the vector-by-item extended MFRM (Elliott & Buttery, 2022b), `MFRM_Sim_Thresholds` for the vector-by-threshold extended MFRM (Elliott & Buttery, 2022b) and `MFRM_Sim_Matrix` for the matrix extended MFRM (Elliott & Buttery, 2022b). All data is generated to fit the chosen model.\n",
    "\n",
    "**References**\n",
    "\n",
    "&nbsp;&nbsp;&nbsp;&nbsp; Andrich, D. (1978). A rating formulation for ordered response categories. *Psychometrika*, *43*(4), 561–573.\n",
    "\n",
    "&nbsp;&nbsp;&nbsp;&nbsp; Elliott, M., & Buttery, P. J. (2022a) Non-iterative Conditional Pairwise Estimation for the Rating Scale Model, *Educational and Psychological Measurement*, *82*(5), 989-1019.\n",
    "\n",
    "&nbsp;&nbsp;&nbsp;&nbsp; Elliott, M. and Buttery, P. J. (2022b) Extended Rater Representations in the Many-Facet Rasch Model, *Journal of Applied Measurement*, *22*(1), 133-160.\n",
    "\n",
    "&nbsp;&nbsp;&nbsp;&nbsp; Linacre, J. M. (1994). *Many-Facet Rasch Measurement*. MESA Press.\n",
    "\n",
    "&nbsp;&nbsp;&nbsp;&nbsp; Masters, G. N. (1982). A Rasch model for partial credit scoring. *Psychometrika*, *47*(2), 149–174.\n",
    "\n",
    "&nbsp;&nbsp;&nbsp;&nbsp; Rasch, G. (1960). *Probabilistic models for some intelligence and attainment tests*. Danmarks Pædagogiske\n",
    "Institut."
   ]
  },
  {
   "cell_type": "markdown",
   "id": "809fda48-b0d9-482f-a512-1ed16a47feb1",
   "metadata": {},
   "source": [
    "Import the packages and set the working directory (here called `my_working_directory`) - you will save your output files here."
   ]
  },
  {
   "cell_type": "code",
   "execution_count": 18,
   "id": "39a40e49-bd0b-4c83-911d-bbc68641cb4d",
   "metadata": {},
   "outputs": [],
   "source": [
    "import RaschPy as rp\n",
    "import numpy as np\n",
    "import pandas as pd\n",
    "import os\n",
    "import pickle\n",
    "\n",
    "# my_working_directory\n",
    "os.chdir('C:/Users/elliom/Downloads/sims')"
   ]
  },
  {
   "cell_type": "markdown",
   "id": "0a6adcb6-c1a7-460d-9a9b-5083c9f8366e",
   "metadata": {},
   "source": [
    "### `MFRM_Sim_Global`\n",
    "\n",
    "Create an object `mfrm_sim_1` of the class `MFRM_Sim_Global` with randomised item difficulties, shared threshold set and person abilities. `MFRM_Sim_Global` will do this automatically when you pass `item_range`, `rater_range`, `category_base`, `max_disorder`, `person_sd` and `offset` arguments to the simulation: item difficulties and rater severities will be sampled from a uniform distribution; person abilities will be sampled from a normal distribution. We pass `item_range=4` to have items covering a range of 4 logits, `rater_range=3` to have raters covering a range of 3 logits, and `person_sd=2` and `offset=1` to have a sample of persons with a mean ability 1 logit higher than the items, with a standard deviation of 2 logits. We also pass the additional arguments `category_base=1.5` and `max_disorder=1`; this sets the base category width to 1.5 logits, with a degree of random uniform variatoin around  controlled by `max_disorder`. With `max_disorder=1`, the minimum category width is 1 logit (and the maximum, symmetrically, will be 2 logits); a smaller value permits more variation in category widths, and a negative value for `max_disorder` allows the presence of disordered thresholds (hence the name of the argument). From this, a set of central item locations are generated from `item_range`, and sets of centred Rasch-ANdrich thresholds, each summing to zero, are generated from  `category_base` and `max_disorder`. One other additional argument that must be passed to `MFRM_Sim_Global` is `max_score`, which is a  the maximum possible score for each item. There are 500 persons, 8 items and 10 raters, with no missing data for this simulation."
   ]
  },
  {
   "cell_type": "code",
   "execution_count": 19,
   "id": "68ca4dbc-64cf-4c21-ba1e-cd555da4b12c",
   "metadata": {},
   "outputs": [],
   "source": [
    "mfrm_sim_1 = rp.MFRM_Sim_Global(no_of_items=8,\n",
    "                                no_of_persons=500,\n",
    "                                no_of_raters=10,\n",
    "                                max_score=5,\n",
    "                                item_range=4,\n",
    "                                rater_range=3,\n",
    "                                category_base=1.5,\n",
    "                                max_disorder=1,\n",
    "                                person_sd=2,\n",
    "                                offset=0.5)"
   ]
  },
  {
   "cell_type": "markdown",
   "id": "b23a83e8-68bc-4f5e-be86-12f97bb70c54",
   "metadata": {},
   "source": [
    "Save the generated response dataframe, which is stored as an attribute `mfrm_sim_1.scores`, to file, and view the first 5 lines."
   ]
  },
  {
   "cell_type": "code",
   "execution_count": 20,
   "id": "823f009c-27ab-4537-aab3-08d5f73ee8e6",
   "metadata": {},
   "outputs": [
    {
     "data": {
      "text/html": [
       "<div>\n",
       "<style scoped>\n",
       "    .dataframe tbody tr th:only-of-type {\n",
       "        vertical-align: middle;\n",
       "    }\n",
       "\n",
       "    .dataframe tbody tr th {\n",
       "        vertical-align: top;\n",
       "    }\n",
       "\n",
       "    .dataframe thead th {\n",
       "        text-align: right;\n",
       "    }\n",
       "</style>\n",
       "<table border=\"1\" class=\"dataframe\">\n",
       "  <thead>\n",
       "    <tr style=\"text-align: right;\">\n",
       "      <th></th>\n",
       "      <th></th>\n",
       "      <th>Item_1</th>\n",
       "      <th>Item_2</th>\n",
       "      <th>Item_3</th>\n",
       "      <th>Item_4</th>\n",
       "      <th>Item_5</th>\n",
       "      <th>Item_6</th>\n",
       "      <th>Item_7</th>\n",
       "      <th>Item_8</th>\n",
       "    </tr>\n",
       "  </thead>\n",
       "  <tbody>\n",
       "    <tr>\n",
       "      <th rowspan=\"5\" valign=\"top\">Rater_1</th>\n",
       "      <th>Person_1</th>\n",
       "      <td>0.0</td>\n",
       "      <td>1.0</td>\n",
       "      <td>2.0</td>\n",
       "      <td>2.0</td>\n",
       "      <td>2.0</td>\n",
       "      <td>0.0</td>\n",
       "      <td>3.0</td>\n",
       "      <td>2.0</td>\n",
       "    </tr>\n",
       "    <tr>\n",
       "      <th>Person_2</th>\n",
       "      <td>1.0</td>\n",
       "      <td>4.0</td>\n",
       "      <td>2.0</td>\n",
       "      <td>3.0</td>\n",
       "      <td>3.0</td>\n",
       "      <td>0.0</td>\n",
       "      <td>3.0</td>\n",
       "      <td>3.0</td>\n",
       "    </tr>\n",
       "    <tr>\n",
       "      <th>Person_3</th>\n",
       "      <td>0.0</td>\n",
       "      <td>4.0</td>\n",
       "      <td>2.0</td>\n",
       "      <td>5.0</td>\n",
       "      <td>5.0</td>\n",
       "      <td>2.0</td>\n",
       "      <td>5.0</td>\n",
       "      <td>3.0</td>\n",
       "    </tr>\n",
       "    <tr>\n",
       "      <th>Person_4</th>\n",
       "      <td>3.0</td>\n",
       "      <td>5.0</td>\n",
       "      <td>4.0</td>\n",
       "      <td>4.0</td>\n",
       "      <td>5.0</td>\n",
       "      <td>2.0</td>\n",
       "      <td>5.0</td>\n",
       "      <td>5.0</td>\n",
       "    </tr>\n",
       "    <tr>\n",
       "      <th>Person_5</th>\n",
       "      <td>1.0</td>\n",
       "      <td>3.0</td>\n",
       "      <td>2.0</td>\n",
       "      <td>2.0</td>\n",
       "      <td>3.0</td>\n",
       "      <td>1.0</td>\n",
       "      <td>2.0</td>\n",
       "      <td>3.0</td>\n",
       "    </tr>\n",
       "  </tbody>\n",
       "</table>\n",
       "</div>"
      ],
      "text/plain": [
       "                  Item_1  Item_2  Item_3  Item_4  Item_5  Item_6  Item_7  \\\n",
       "Rater_1 Person_1     0.0     1.0     2.0     2.0     2.0     0.0     3.0   \n",
       "        Person_2     1.0     4.0     2.0     3.0     3.0     0.0     3.0   \n",
       "        Person_3     0.0     4.0     2.0     5.0     5.0     2.0     5.0   \n",
       "        Person_4     3.0     5.0     4.0     4.0     5.0     2.0     5.0   \n",
       "        Person_5     1.0     3.0     2.0     2.0     3.0     1.0     2.0   \n",
       "\n",
       "                  Item_8  \n",
       "Rater_1 Person_1     2.0  \n",
       "        Person_2     3.0  \n",
       "        Person_3     3.0  \n",
       "        Person_4     5.0  \n",
       "        Person_5     3.0  "
      ]
     },
     "execution_count": 20,
     "metadata": {},
     "output_type": "execute_result"
    }
   ],
   "source": [
    "mfrm_sim_1.scores.to_csv('mfrm_sim_1_scores.csv')\n",
    "mfrm_sim_1.scores.head(5)"
   ]
  },
  {
   "cell_type": "markdown",
   "id": "104175e8-50c2-4500-94ec-e7bdeffed684",
   "metadata": {},
   "source": [
    "Save the generating item, threshold, rater and person parameters to file, and view the first 5 lines of the item difficulties, rater severities and person abilities, plus the Rasch-Andrich thresholds (which includes the 'dummy' threshold 0, always set to 0)."
   ]
  },
  {
   "cell_type": "code",
   "execution_count": 21,
   "id": "f48ce3ce-6808-4ca3-9e09-0c40378f67fe",
   "metadata": {},
   "outputs": [
    {
     "data": {
      "text/plain": [
       "Item_1    2.213424\n",
       "Item_2   -0.386536\n",
       "Item_3    0.251134\n",
       "Item_4   -0.879555\n",
       "Item_5   -1.786576\n",
       "dtype: float64"
      ]
     },
     "execution_count": 21,
     "metadata": {},
     "output_type": "execute_result"
    }
   ],
   "source": [
    "mfrm_sim_1.diffs.to_csv('mfrm_sim_1_diffs.csv', header=None)\n",
    "mfrm_sim_1.diffs.head(5)"
   ]
  },
  {
   "cell_type": "code",
   "execution_count": 22,
   "id": "299a6945-730d-41ab-8f2c-cab487c719a1",
   "metadata": {},
   "outputs": [
    {
     "data": {
      "text/plain": [
       "array([ 0.        , -2.57199296, -1.53119446, -0.30511343,  1.57933477,\n",
       "        2.82896609])"
      ]
     },
     "execution_count": 22,
     "metadata": {},
     "output_type": "execute_result"
    }
   ],
   "source": [
    "pd.Series(mfrm_sim_1.thresholds).to_csv('mfrm_sim_1_thresholds.csv', header=None)\n",
    "mfrm_sim_1.thresholds"
   ]
  },
  {
   "cell_type": "code",
   "execution_count": 23,
   "id": "bc459155-ca83-4c48-910e-2f3075550ec8",
   "metadata": {},
   "outputs": [
    {
     "data": {
      "text/plain": [
       "Rater_1    0.905365\n",
       "Rater_2   -0.672733\n",
       "Rater_3   -0.805950\n",
       "Rater_4   -1.283631\n",
       "Rater_5   -1.127048\n",
       "dtype: float64"
      ]
     },
     "execution_count": 23,
     "metadata": {},
     "output_type": "execute_result"
    }
   ],
   "source": [
    "mfrm_sim_1.severities.to_csv('mfrm_sim_1_severities.csv', header=None)\n",
    "mfrm_sim_1.severities.head(5)"
   ]
  },
  {
   "cell_type": "code",
   "execution_count": 24,
   "id": "7c109edd-feb6-4531-83da-03b3f7e3605e",
   "metadata": {},
   "outputs": [
    {
     "data": {
      "text/plain": [
       "Person_1   -0.806592\n",
       "Person_2    1.241317\n",
       "Person_3    2.448398\n",
       "Person_4    2.514654\n",
       "Person_5    0.610924\n",
       "dtype: float64"
      ]
     },
     "execution_count": 24,
     "metadata": {},
     "output_type": "execute_result"
    }
   ],
   "source": [
    "mfrm_sim_1.abilities.to_csv('mfrm_sim_1_abilities.csv', header=None)\n",
    "mfrm_sim_1.abilities.head(5)"
   ]
  },
  {
   "cell_type": "markdown",
   "id": "0d9be042-c4bb-4940-ae81-39a10dd1a522",
   "metadata": {},
   "source": [
    "View `max_score`."
   ]
  },
  {
   "cell_type": "code",
   "execution_count": 25,
   "id": "4be55df7-0dc7-4535-b58f-ccc00817a2c5",
   "metadata": {},
   "outputs": [
    {
     "data": {
      "text/plain": [
       "5"
      ]
     },
     "execution_count": 25,
     "metadata": {},
     "output_type": "execute_result"
    }
   ],
   "source": [
    "mfrm_sim_1.max_score"
   ]
  },
  {
   "cell_type": "markdown",
   "id": "3d96c7a2-3c14-4188-970c-3649e5c4b458",
   "metadata": {},
   "source": [
    "Create an object `mfrm_1` of the class `MFRM` from the response dataframe for analysis and save the object `mfrm_sim_1` to file with `pickle`. Note that when creating the `MFRM` object, we have passed a `max_score` argument as well as the response dataframe (this is not essential - `RaschPy` will infer the maximum score from the response data if no value is paased - but if no persons achieve the maximum score, inferring the score will then not include the full score range)."
   ]
  },
  {
   "cell_type": "code",
   "execution_count": 26,
   "id": "7e2e7920-c543-4e19-919c-3a1664aa3bf1",
   "metadata": {},
   "outputs": [],
   "source": [
    "mfrm_1 = rp.MFRM(mfrm_sim_1.scores, max_score=mfrm_sim_1.max_score)\n",
    "\n",
    "with open('mfrm_sim_1.pickle', 'wb') as handle:\n",
    "    pickle.dump(mfrm_sim_1, handle, protocol=pickle.HIGHEST_PROTOCOL)"
   ]
  },
  {
   "cell_type": "markdown",
   "id": "1952ec98-0391-44e1-9577-49de50b54ad5",
   "metadata": {},
   "source": [
    "You may wish to create a simulation based on specified, known item difficulties and/or person abilities. This may be done by passing lists to the `manual_diffs`,  `manual_severities`, `manual_thresholds` and/or `manual_abilities` arguments (in which case, there is no need to pass the relevant `item_range`, `category_base`, `category_base`, `person_sd` or `offset` arguments). You may also customise the names of the items and/or persons by passing lists of the correct length to the manual_person_names and/or manual_item_names arguments.\n",
    "\n",
    "The manual_diffs and manual_abilities arguments may also be used to generate random item difficulties and/or person abilities according to distributions other than the default uniform (for items) and normal (for persons). This is what is done in the example `mfrm_sim_2` below: A set of specified, fixed item difficulties (8 items of difficulty between -3 logit and +3 logits and a maximum score of 5) and set of Rasch-Andrich thresholds (each summing to zero, with a 'dummy threshold 0 of value 0) are passed together with a list of specified rater severities and an array of person abilities drawn from a random uniform distribution between -2 and +2 logits. For this simulation, we also set a proportion of 10% missing data (missing completely at random) by passing the argument `missing=0.1`."
   ]
  },
  {
   "cell_type": "code",
   "execution_count": 36,
   "id": "22bbe6ea-6e32-4829-946b-447d41ed0480",
   "metadata": {},
   "outputs": [],
   "source": [
    "mfrm_sim_2 = rp.MFRM_Sim_Global(no_of_items=8,\n",
    "                                no_of_persons=500,\n",
    "                                no_of_raters=10,\n",
    "                                max_score=5,\n",
    "                                missing=0.1,\n",
    "                                manual_abilities = np.random.uniform(-2, 2, 500),\n",
    "                                manual_diffs=[-3, -2.5, -1.5, -0.5, 0.5, 1.5, 2.5, 3],\n",
    "                                manual_thresholds=[0, -2, -1, 0, 1, 2],\n",
    "                                manual_severities =  [0, 0, 0, 1, 1, 2, 2, 3, 3, -3])"
   ]
  },
  {
   "cell_type": "markdown",
   "id": "1973691c-1c47-4f06-ad1c-7afa53c5bec8",
   "metadata": {},
   "source": [
    "Save the generated response dataframe, which is stored as an attribute `mfrm_sim_2.scores`, to file, and view the first 5 lines."
   ]
  },
  {
   "cell_type": "code",
   "execution_count": 29,
   "id": "250627ad-b919-4fb8-9c29-ac28e5ab214c",
   "metadata": {},
   "outputs": [
    {
     "data": {
      "text/html": [
       "<div>\n",
       "<style scoped>\n",
       "    .dataframe tbody tr th:only-of-type {\n",
       "        vertical-align: middle;\n",
       "    }\n",
       "\n",
       "    .dataframe tbody tr th {\n",
       "        vertical-align: top;\n",
       "    }\n",
       "\n",
       "    .dataframe thead th {\n",
       "        text-align: right;\n",
       "    }\n",
       "</style>\n",
       "<table border=\"1\" class=\"dataframe\">\n",
       "  <thead>\n",
       "    <tr style=\"text-align: right;\">\n",
       "      <th></th>\n",
       "      <th></th>\n",
       "      <th>Item_1</th>\n",
       "      <th>Item_2</th>\n",
       "      <th>Item_3</th>\n",
       "      <th>Item_4</th>\n",
       "      <th>Item_5</th>\n",
       "      <th>Item_6</th>\n",
       "      <th>Item_7</th>\n",
       "      <th>Item_8</th>\n",
       "    </tr>\n",
       "  </thead>\n",
       "  <tbody>\n",
       "    <tr>\n",
       "      <th rowspan=\"5\" valign=\"top\">Rater_1</th>\n",
       "      <th>Person_1</th>\n",
       "      <td>5.0</td>\n",
       "      <td>5.0</td>\n",
       "      <td>5.0</td>\n",
       "      <td>4.0</td>\n",
       "      <td>3.0</td>\n",
       "      <td>2.0</td>\n",
       "      <td>0.0</td>\n",
       "      <td>0.0</td>\n",
       "    </tr>\n",
       "    <tr>\n",
       "      <th>Person_2</th>\n",
       "      <td>4.0</td>\n",
       "      <td>4.0</td>\n",
       "      <td>2.0</td>\n",
       "      <td>2.0</td>\n",
       "      <td>1.0</td>\n",
       "      <td>0.0</td>\n",
       "      <td>0.0</td>\n",
       "      <td>0.0</td>\n",
       "    </tr>\n",
       "    <tr>\n",
       "      <th>Person_3</th>\n",
       "      <td>4.0</td>\n",
       "      <td>4.0</td>\n",
       "      <td>5.0</td>\n",
       "      <td>1.0</td>\n",
       "      <td>NaN</td>\n",
       "      <td>1.0</td>\n",
       "      <td>0.0</td>\n",
       "      <td>0.0</td>\n",
       "    </tr>\n",
       "    <tr>\n",
       "      <th>Person_4</th>\n",
       "      <td>4.0</td>\n",
       "      <td>5.0</td>\n",
       "      <td>4.0</td>\n",
       "      <td>2.0</td>\n",
       "      <td>NaN</td>\n",
       "      <td>0.0</td>\n",
       "      <td>0.0</td>\n",
       "      <td>1.0</td>\n",
       "    </tr>\n",
       "    <tr>\n",
       "      <th>Person_5</th>\n",
       "      <td>NaN</td>\n",
       "      <td>5.0</td>\n",
       "      <td>5.0</td>\n",
       "      <td>4.0</td>\n",
       "      <td>2.0</td>\n",
       "      <td>1.0</td>\n",
       "      <td>1.0</td>\n",
       "      <td>1.0</td>\n",
       "    </tr>\n",
       "    <tr>\n",
       "      <th>...</th>\n",
       "      <th>...</th>\n",
       "      <td>...</td>\n",
       "      <td>...</td>\n",
       "      <td>...</td>\n",
       "      <td>...</td>\n",
       "      <td>...</td>\n",
       "      <td>...</td>\n",
       "      <td>...</td>\n",
       "      <td>...</td>\n",
       "    </tr>\n",
       "    <tr>\n",
       "      <th rowspan=\"5\" valign=\"top\">Rater_10</th>\n",
       "      <th>Person_496</th>\n",
       "      <td>5.0</td>\n",
       "      <td>5.0</td>\n",
       "      <td>NaN</td>\n",
       "      <td>5.0</td>\n",
       "      <td>5.0</td>\n",
       "      <td>4.0</td>\n",
       "      <td>3.0</td>\n",
       "      <td>2.0</td>\n",
       "    </tr>\n",
       "    <tr>\n",
       "      <th>Person_497</th>\n",
       "      <td>5.0</td>\n",
       "      <td>5.0</td>\n",
       "      <td>5.0</td>\n",
       "      <td>4.0</td>\n",
       "      <td>4.0</td>\n",
       "      <td>3.0</td>\n",
       "      <td>3.0</td>\n",
       "      <td>0.0</td>\n",
       "    </tr>\n",
       "    <tr>\n",
       "      <th>Person_498</th>\n",
       "      <td>5.0</td>\n",
       "      <td>5.0</td>\n",
       "      <td>3.0</td>\n",
       "      <td>4.0</td>\n",
       "      <td>3.0</td>\n",
       "      <td>NaN</td>\n",
       "      <td>2.0</td>\n",
       "      <td>2.0</td>\n",
       "    </tr>\n",
       "    <tr>\n",
       "      <th>Person_499</th>\n",
       "      <td>5.0</td>\n",
       "      <td>3.0</td>\n",
       "      <td>4.0</td>\n",
       "      <td>4.0</td>\n",
       "      <td>1.0</td>\n",
       "      <td>1.0</td>\n",
       "      <td>1.0</td>\n",
       "      <td>NaN</td>\n",
       "    </tr>\n",
       "    <tr>\n",
       "      <th>Person_500</th>\n",
       "      <td>5.0</td>\n",
       "      <td>NaN</td>\n",
       "      <td>5.0</td>\n",
       "      <td>5.0</td>\n",
       "      <td>5.0</td>\n",
       "      <td>5.0</td>\n",
       "      <td>3.0</td>\n",
       "      <td>2.0</td>\n",
       "    </tr>\n",
       "  </tbody>\n",
       "</table>\n",
       "<p>5000 rows × 8 columns</p>\n",
       "</div>"
      ],
      "text/plain": [
       "                     Item_1  Item_2  Item_3  Item_4  Item_5  Item_6  Item_7  \\\n",
       "Rater_1  Person_1       5.0     5.0     5.0     4.0     3.0     2.0     0.0   \n",
       "         Person_2       4.0     4.0     2.0     2.0     1.0     0.0     0.0   \n",
       "         Person_3       4.0     4.0     5.0     1.0     NaN     1.0     0.0   \n",
       "         Person_4       4.0     5.0     4.0     2.0     NaN     0.0     0.0   \n",
       "         Person_5       NaN     5.0     5.0     4.0     2.0     1.0     1.0   \n",
       "...                     ...     ...     ...     ...     ...     ...     ...   \n",
       "Rater_10 Person_496     5.0     5.0     NaN     5.0     5.0     4.0     3.0   \n",
       "         Person_497     5.0     5.0     5.0     4.0     4.0     3.0     3.0   \n",
       "         Person_498     5.0     5.0     3.0     4.0     3.0     NaN     2.0   \n",
       "         Person_499     5.0     3.0     4.0     4.0     1.0     1.0     1.0   \n",
       "         Person_500     5.0     NaN     5.0     5.0     5.0     5.0     3.0   \n",
       "\n",
       "                     Item_8  \n",
       "Rater_1  Person_1       0.0  \n",
       "         Person_2       0.0  \n",
       "         Person_3       0.0  \n",
       "         Person_4       1.0  \n",
       "         Person_5       1.0  \n",
       "...                     ...  \n",
       "Rater_10 Person_496     2.0  \n",
       "         Person_497     0.0  \n",
       "         Person_498     2.0  \n",
       "         Person_499     NaN  \n",
       "         Person_500     2.0  \n",
       "\n",
       "[5000 rows x 8 columns]"
      ]
     },
     "execution_count": 29,
     "metadata": {},
     "output_type": "execute_result"
    }
   ],
   "source": [
    "mfrm_sim_2.scores"
   ]
  },
  {
   "cell_type": "markdown",
   "id": "8530bf71-349e-4397-8163-f50ab49f42c3",
   "metadata": {},
   "source": [
    "Save the generating item, threshold, rater and person parameters to file, and view the item difficulties and Rasch-Andrich thresholds (which includes the 'dummy' threshold 0, always set to 0)."
   ]
  },
  {
   "cell_type": "code",
   "execution_count": 30,
   "id": "2e6dd77e-f48d-45d0-a03b-79148a33185b",
   "metadata": {},
   "outputs": [
    {
     "data": {
      "text/plain": [
       "Item_1   -3.0\n",
       "Item_2   -2.5\n",
       "Item_3   -1.5\n",
       "Item_4   -0.5\n",
       "Item_5    0.5\n",
       "Item_6    1.5\n",
       "Item_7    2.5\n",
       "Item_8    3.0\n",
       "dtype: float64"
      ]
     },
     "execution_count": 30,
     "metadata": {},
     "output_type": "execute_result"
    }
   ],
   "source": [
    "mfrm_sim_2.diffs.to_csv('mfrm_sim_2_diffs.csv', header=None)\n",
    "mfrm_sim_2.diffs"
   ]
  },
  {
   "cell_type": "code",
   "execution_count": 31,
   "id": "0407e08c-2f42-4019-bd0e-a2753fca1423",
   "metadata": {},
   "outputs": [
    {
     "data": {
      "text/plain": [
       "array([ 0, -2, -1,  0,  1,  2])"
      ]
     },
     "execution_count": 31,
     "metadata": {},
     "output_type": "execute_result"
    }
   ],
   "source": [
    "pd.Series(mfrm_sim_2.thresholds).to_csv('mfrm_sim_2_thresholds.csv', header=None)\n",
    "mfrm_sim_2.thresholds"
   ]
  },
  {
   "cell_type": "code",
   "execution_count": 23,
   "id": "926c4a34-3940-448e-a1e2-a4f4d60e1daf",
   "metadata": {},
   "outputs": [
    {
     "data": {
      "text/plain": [
       "Rater_1    0.905365\n",
       "Rater_2   -0.672733\n",
       "Rater_3   -0.805950\n",
       "Rater_4   -1.283631\n",
       "Rater_5   -1.127048\n",
       "dtype: float64"
      ]
     },
     "execution_count": 23,
     "metadata": {},
     "output_type": "execute_result"
    }
   ],
   "source": [
    "mfrm_sim_2.severities.to_csv('mfrm_sim_2_severities.csv', header=None)\n",
    "mfrm_sim_2.severities.head(5)"
   ]
  },
  {
   "cell_type": "code",
   "execution_count": 32,
   "id": "c70c1ac1-d365-44de-ac86-2fec0ef19f02",
   "metadata": {},
   "outputs": [
    {
     "data": {
      "text/plain": [
       "Person_1   -0.155332\n",
       "Person_2   -1.649177\n",
       "Person_3   -0.305615\n",
       "Person_4   -0.381275\n",
       "Person_5    1.253499\n",
       "dtype: float64"
      ]
     },
     "execution_count": 32,
     "metadata": {},
     "output_type": "execute_result"
    }
   ],
   "source": [
    "mfrm_sim_2.abilities.to_csv('mfrm_sim_2_abilities.csv', header=None)\n",
    "mfrm_sim_2.abilities.head(5)"
   ]
  },
  {
   "cell_type": "markdown",
   "id": "8ac5b14c-0dba-413e-ae1a-aae2b0e67417",
   "metadata": {},
   "source": [
    "View `max_score`."
   ]
  },
  {
   "cell_type": "code",
   "execution_count": 33,
   "id": "231fa23d-8322-4d1a-963c-8cd0c2616f7a",
   "metadata": {},
   "outputs": [
    {
     "data": {
      "text/plain": [
       "5"
      ]
     },
     "execution_count": 33,
     "metadata": {},
     "output_type": "execute_result"
    }
   ],
   "source": [
    "mfrm_sim_2.max_score"
   ]
  },
  {
   "cell_type": "markdown",
   "id": "2a7cdec6-612e-471b-a3bf-4d21bc26a33c",
   "metadata": {},
   "source": [
    "Create an object, `mfrm_2`, of the class `MFRM` from the response dataframe for analysis and save the object `mfrm_sim_2` to file with pickle."
   ]
  },
  {
   "cell_type": "code",
   "execution_count": 34,
   "id": "b32539f6-61e8-4f9f-bb4d-cab18ce163c2",
   "metadata": {
    "scrolled": true
   },
   "outputs": [],
   "source": [
    "rsm_2 = rp.MFRM(mfrm_sim_2.scores, max_score=mfrm_sim_2.max_score)\n",
    "\n",
    "with open('mfrm_sim_2.pickle', 'wb') as handle:\n",
    "    pickle.dump(mfrm_sim_2, handle, protocol=pickle.HIGHEST_PROTOCOL)"
   ]
  },
  {
   "cell_type": "code",
   "execution_count": null,
   "id": "7bc4f186-2e81-4001-a126-e63fec8d7381",
   "metadata": {},
   "outputs": [],
   "source": []
  }
 ],
 "metadata": {
  "kernelspec": {
   "display_name": "Python 3 (ipykernel)",
   "language": "python",
   "name": "python3"
  },
  "language_info": {
   "codemirror_mode": {
    "name": "ipython",
    "version": 3
   },
   "file_extension": ".py",
   "mimetype": "text/x-python",
   "name": "python",
   "nbconvert_exporter": "python",
   "pygments_lexer": "ipython3",
   "version": "3.11.10"
  }
 },
 "nbformat": 4,
 "nbformat_minor": 5
}
