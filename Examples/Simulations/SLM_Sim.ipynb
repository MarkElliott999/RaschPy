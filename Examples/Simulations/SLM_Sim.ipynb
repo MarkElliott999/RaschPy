{
 "cells": [
  {
   "cell_type": "markdown",
   "id": "62ce754e-5e37-4d6a-a9c4-bc833fe8b97d",
   "metadata": {},
   "source": [
    "## *RaschPy* simulation functionality\n",
    "\n",
    "This notebook works through examples of how to generate simulated data sets with `RaschPy` for experimental use where knowledge of the underlying 'ground truth' of the generating parameters is useful, for example when comparing the efficacy of different estimation algorithms, such as in Elliott & Buttery (2022a) or exploring the effect of fitting different Rasch models to the same data set, such as in Elliott & Buttery (2022b). There are separate classes for each model: `SLM_Sim` for the simple logistic model (or dichotomous Rasch model) (Rasch, 1960), `PCM_Sim` for the partial credit model (Masters, 1982), `RSM_Sim` for the rating scale model (Andrich, 1978), `MFRM_Sim_Global` for the many-facet Rasch model (Linacre, 1994), `MFRM_Sim_Items` for the vector-by-item extended MFRM (Elliott & Buttery, 2022b), `MFRM_Sim_Thresholds` for the vector-by-threshold extended MFRM (Elliott & Buttery, 2022b) and `MFRM_Sim_Matrix` for the matrix extended MFRM (Elliott & Buttery, 2022b). All data is generated to fit the chosen model.\n",
    "\n",
    "**References**\n",
    "\n",
    "&nbsp;&nbsp;&nbsp;&nbsp; Andrich, D. (1978). A rating formulation for ordered response categories. *Psychometrika*, *43*(4), 561–573.\n",
    "\n",
    "&nbsp;&nbsp;&nbsp;&nbsp; Elliott, M., & Buttery, P. J. (2022a) Non-iterative Conditional Pairwise Estimation for the Rating Scale Model, *Educational and Psychological Measurement*, *82*(5), 989-1019.\n",
    "\n",
    "&nbsp;&nbsp;&nbsp;&nbsp; Elliott, M. and Buttery, P. J. (2022b) Extended Rater Representations in the Many-Facet Rasch Model, *Journal of Applied Measurement*, *22*(1), 133-160.\n",
    "\n",
    "&nbsp;&nbsp;&nbsp;&nbsp; Linacre, J. M. (1994). *Many-Facet Rasch Measurement*. MESA Press.\n",
    "\n",
    "&nbsp;&nbsp;&nbsp;&nbsp; Masters, G. N. (1982). A Rasch model for partial credit scoring. *Psychometrika*, *47*(2), 149–174.\n",
    "\n",
    "&nbsp;&nbsp;&nbsp;&nbsp; Rasch, G. (1960). *Probabilistic models for some intelligence and attainment tests*. Danmarks Pædagogiske\n",
    "Institut."
   ]
  },
  {
   "cell_type": "markdown",
   "id": "809fda48-b0d9-482f-a512-1ed16a47feb1",
   "metadata": {},
   "source": [
    "Import the packages and set the working directory (here called `my_working_directory`) - you will save your output files here."
   ]
  },
  {
   "cell_type": "code",
   "execution_count": 1,
   "id": "39a40e49-bd0b-4c83-911d-bbc68641cb4d",
   "metadata": {},
   "outputs": [],
   "source": [
    "import RaschPy as rp\n",
    "import numpy as np\n",
    "import pandas as pd\n",
    "import os\n",
    "import pickle\n",
    "\n",
    "# my_working_directory\n",
    "os.chdir('C:/Users/elliom/Downloads/sims')"
   ]
  },
  {
   "cell_type": "markdown",
   "id": "ca96c23f-9354-4e38-ae9c-55f1ace2fd93",
   "metadata": {},
   "source": [
    "### `SLM_Sim`\n",
    "\n",
    "Create an object `slm_sim_1` of the class `SLM_Sim` with randomised item difficulties and person abilities. The `SLM_Sim` will do this automatically when you pass `item_range`, `person_sd` and `offset` arguments to the simulation: item difficulties will be sampled from a uniform distribution and person abilities will be sampled from a normal distribution. In this case, we pass `item_range=4` to have items covering a range of 4 logits, and `person_sd=2` and `offset=1` to have a sample of persons with a mean ability 1 logit higher than the items, with a standard deviation of 2 logits. There are 5,000 persons and 30 items, with no missing data for this simulation."
   ]
  },
  {
   "cell_type": "code",
   "execution_count": 2,
   "id": "38711446-5b03-47e1-aceb-2b41936b7817",
   "metadata": {},
   "outputs": [],
   "source": [
    "slm_sim_1 = rp.SLM_Sim(no_of_items=30,\n",
    "                       no_of_persons=5000,\n",
    "                       item_range=4,\n",
    "                       person_sd=2,\n",
    "                       offset=2)"
   ]
  },
  {
   "cell_type": "markdown",
   "id": "8ec8b914-572e-4ea2-9198-f06d8d2d5f05",
   "metadata": {},
   "source": [
    "Save the generated response dataframe, which is stored as an attribute `slm_sim_1.scores` to file, and view the first 5 lines."
   ]
  },
  {
   "cell_type": "code",
   "execution_count": 3,
   "id": "1f4bc35c-15bb-4fc9-b97a-439d6ae4e7d9",
   "metadata": {
    "scrolled": true
   },
   "outputs": [
    {
     "data": {
      "text/html": [
       "<div>\n",
       "<style scoped>\n",
       "    .dataframe tbody tr th:only-of-type {\n",
       "        vertical-align: middle;\n",
       "    }\n",
       "\n",
       "    .dataframe tbody tr th {\n",
       "        vertical-align: top;\n",
       "    }\n",
       "\n",
       "    .dataframe thead th {\n",
       "        text-align: right;\n",
       "    }\n",
       "</style>\n",
       "<table border=\"1\" class=\"dataframe\">\n",
       "  <thead>\n",
       "    <tr style=\"text-align: right;\">\n",
       "      <th></th>\n",
       "      <th>Item_1</th>\n",
       "      <th>Item_2</th>\n",
       "      <th>Item_3</th>\n",
       "      <th>Item_4</th>\n",
       "      <th>Item_5</th>\n",
       "      <th>Item_6</th>\n",
       "      <th>Item_7</th>\n",
       "      <th>Item_8</th>\n",
       "      <th>Item_9</th>\n",
       "      <th>Item_10</th>\n",
       "      <th>...</th>\n",
       "      <th>Item_21</th>\n",
       "      <th>Item_22</th>\n",
       "      <th>Item_23</th>\n",
       "      <th>Item_24</th>\n",
       "      <th>Item_25</th>\n",
       "      <th>Item_26</th>\n",
       "      <th>Item_27</th>\n",
       "      <th>Item_28</th>\n",
       "      <th>Item_29</th>\n",
       "      <th>Item_30</th>\n",
       "    </tr>\n",
       "  </thead>\n",
       "  <tbody>\n",
       "    <tr>\n",
       "      <th>Person_1</th>\n",
       "      <td>0.0</td>\n",
       "      <td>1.0</td>\n",
       "      <td>0.0</td>\n",
       "      <td>0.0</td>\n",
       "      <td>1.0</td>\n",
       "      <td>1.0</td>\n",
       "      <td>1.0</td>\n",
       "      <td>1.0</td>\n",
       "      <td>1.0</td>\n",
       "      <td>0.0</td>\n",
       "      <td>...</td>\n",
       "      <td>1.0</td>\n",
       "      <td>1.0</td>\n",
       "      <td>1.0</td>\n",
       "      <td>1.0</td>\n",
       "      <td>1.0</td>\n",
       "      <td>1.0</td>\n",
       "      <td>1.0</td>\n",
       "      <td>1.0</td>\n",
       "      <td>1.0</td>\n",
       "      <td>0.0</td>\n",
       "    </tr>\n",
       "    <tr>\n",
       "      <th>Person_2</th>\n",
       "      <td>1.0</td>\n",
       "      <td>1.0</td>\n",
       "      <td>1.0</td>\n",
       "      <td>0.0</td>\n",
       "      <td>0.0</td>\n",
       "      <td>0.0</td>\n",
       "      <td>0.0</td>\n",
       "      <td>1.0</td>\n",
       "      <td>0.0</td>\n",
       "      <td>0.0</td>\n",
       "      <td>...</td>\n",
       "      <td>1.0</td>\n",
       "      <td>1.0</td>\n",
       "      <td>1.0</td>\n",
       "      <td>1.0</td>\n",
       "      <td>0.0</td>\n",
       "      <td>1.0</td>\n",
       "      <td>1.0</td>\n",
       "      <td>1.0</td>\n",
       "      <td>1.0</td>\n",
       "      <td>0.0</td>\n",
       "    </tr>\n",
       "    <tr>\n",
       "      <th>Person_3</th>\n",
       "      <td>1.0</td>\n",
       "      <td>1.0</td>\n",
       "      <td>1.0</td>\n",
       "      <td>1.0</td>\n",
       "      <td>1.0</td>\n",
       "      <td>1.0</td>\n",
       "      <td>1.0</td>\n",
       "      <td>1.0</td>\n",
       "      <td>0.0</td>\n",
       "      <td>1.0</td>\n",
       "      <td>...</td>\n",
       "      <td>1.0</td>\n",
       "      <td>1.0</td>\n",
       "      <td>1.0</td>\n",
       "      <td>1.0</td>\n",
       "      <td>1.0</td>\n",
       "      <td>1.0</td>\n",
       "      <td>1.0</td>\n",
       "      <td>1.0</td>\n",
       "      <td>1.0</td>\n",
       "      <td>1.0</td>\n",
       "    </tr>\n",
       "    <tr>\n",
       "      <th>Person_4</th>\n",
       "      <td>1.0</td>\n",
       "      <td>1.0</td>\n",
       "      <td>1.0</td>\n",
       "      <td>1.0</td>\n",
       "      <td>1.0</td>\n",
       "      <td>1.0</td>\n",
       "      <td>1.0</td>\n",
       "      <td>1.0</td>\n",
       "      <td>1.0</td>\n",
       "      <td>1.0</td>\n",
       "      <td>...</td>\n",
       "      <td>1.0</td>\n",
       "      <td>1.0</td>\n",
       "      <td>1.0</td>\n",
       "      <td>0.0</td>\n",
       "      <td>1.0</td>\n",
       "      <td>1.0</td>\n",
       "      <td>1.0</td>\n",
       "      <td>1.0</td>\n",
       "      <td>1.0</td>\n",
       "      <td>0.0</td>\n",
       "    </tr>\n",
       "    <tr>\n",
       "      <th>Person_5</th>\n",
       "      <td>1.0</td>\n",
       "      <td>1.0</td>\n",
       "      <td>1.0</td>\n",
       "      <td>1.0</td>\n",
       "      <td>1.0</td>\n",
       "      <td>1.0</td>\n",
       "      <td>1.0</td>\n",
       "      <td>0.0</td>\n",
       "      <td>1.0</td>\n",
       "      <td>1.0</td>\n",
       "      <td>...</td>\n",
       "      <td>1.0</td>\n",
       "      <td>1.0</td>\n",
       "      <td>1.0</td>\n",
       "      <td>1.0</td>\n",
       "      <td>1.0</td>\n",
       "      <td>1.0</td>\n",
       "      <td>1.0</td>\n",
       "      <td>1.0</td>\n",
       "      <td>1.0</td>\n",
       "      <td>1.0</td>\n",
       "    </tr>\n",
       "  </tbody>\n",
       "</table>\n",
       "<p>5 rows × 30 columns</p>\n",
       "</div>"
      ],
      "text/plain": [
       "          Item_1  Item_2  Item_3  Item_4  Item_5  Item_6  Item_7  Item_8  \\\n",
       "Person_1     0.0     1.0     0.0     0.0     1.0     1.0     1.0     1.0   \n",
       "Person_2     1.0     1.0     1.0     0.0     0.0     0.0     0.0     1.0   \n",
       "Person_3     1.0     1.0     1.0     1.0     1.0     1.0     1.0     1.0   \n",
       "Person_4     1.0     1.0     1.0     1.0     1.0     1.0     1.0     1.0   \n",
       "Person_5     1.0     1.0     1.0     1.0     1.0     1.0     1.0     0.0   \n",
       "\n",
       "          Item_9  Item_10  ...  Item_21  Item_22  Item_23  Item_24  Item_25  \\\n",
       "Person_1     1.0      0.0  ...      1.0      1.0      1.0      1.0      1.0   \n",
       "Person_2     0.0      0.0  ...      1.0      1.0      1.0      1.0      0.0   \n",
       "Person_3     0.0      1.0  ...      1.0      1.0      1.0      1.0      1.0   \n",
       "Person_4     1.0      1.0  ...      1.0      1.0      1.0      0.0      1.0   \n",
       "Person_5     1.0      1.0  ...      1.0      1.0      1.0      1.0      1.0   \n",
       "\n",
       "          Item_26  Item_27  Item_28  Item_29  Item_30  \n",
       "Person_1      1.0      1.0      1.0      1.0      0.0  \n",
       "Person_2      1.0      1.0      1.0      1.0      0.0  \n",
       "Person_3      1.0      1.0      1.0      1.0      1.0  \n",
       "Person_4      1.0      1.0      1.0      1.0      0.0  \n",
       "Person_5      1.0      1.0      1.0      1.0      1.0  \n",
       "\n",
       "[5 rows x 30 columns]"
      ]
     },
     "execution_count": 3,
     "metadata": {},
     "output_type": "execute_result"
    }
   ],
   "source": [
    "slm_sim_1.scores.to_csv('slm_sim_1_scores.csv')\n",
    "slm_sim_1.scores.head(5)"
   ]
  },
  {
   "cell_type": "markdown",
   "id": "9350b184-6c91-4dca-88b8-eec5c9ae6163",
   "metadata": {},
   "source": [
    "Save the generating item and person parameters, which are also stored as attributes, `slm_sim_1.diffs` and `slm_sim_1.abilities`, to file, and view the first 5 lines of each."
   ]
  },
  {
   "cell_type": "code",
   "execution_count": 4,
   "id": "5cfe3203-ca52-4406-92ec-a8fff5794e12",
   "metadata": {},
   "outputs": [
    {
     "data": {
      "text/plain": [
       "Item_1    0.212071\n",
       "Item_2   -0.862861\n",
       "Item_3    0.286360\n",
       "Item_4    1.324331\n",
       "Item_5    1.586519\n",
       "dtype: float64"
      ]
     },
     "execution_count": 4,
     "metadata": {},
     "output_type": "execute_result"
    }
   ],
   "source": [
    "slm_sim_1.diffs.to_csv('slm_sim_1_diffs.csv', header=None)\n",
    "slm_sim_1.diffs.head(5)"
   ]
  },
  {
   "cell_type": "code",
   "execution_count": 5,
   "id": "b4306b3d-921a-4526-89c4-5255efcbaf68",
   "metadata": {},
   "outputs": [
    {
     "data": {
      "text/plain": [
       "Person_1    1.551758\n",
       "Person_2    1.372744\n",
       "Person_3    2.817531\n",
       "Person_4    3.521883\n",
       "Person_5    4.308773\n",
       "dtype: float64"
      ]
     },
     "execution_count": 5,
     "metadata": {},
     "output_type": "execute_result"
    }
   ],
   "source": [
    "slm_sim_1.abilities.to_csv('slm_sim_1_abilities.csv', header=None)\n",
    "slm_sim_1.abilities.head(5)"
   ]
  },
  {
   "cell_type": "markdown",
   "id": "4d83bdea-6e5a-4220-972c-dfa979eea165",
   "metadata": {},
   "source": [
    "Create an object `slm_1` of the class `SLM` from the response dataframe for analysis (see the manual and/or the `SLM` example notebook for details on conducting an analysis). Also, save the object `slm_sim_1` to file with `pickle`."
   ]
  },
  {
   "cell_type": "code",
   "execution_count": 6,
   "id": "fe8d04b0-97af-4ffe-b708-ddb230d7f2c1",
   "metadata": {},
   "outputs": [],
   "source": [
    "slm_1 = rp.SLM(slm_sim_1.scores)\n",
    "\n",
    "with open('slm_sim_1.pickle', 'wb') as handle:\n",
    "    pickle.dump(slm_sim_1, handle, protocol=pickle.HIGHEST_PROTOCOL)"
   ]
  },
  {
   "cell_type": "markdown",
   "id": "5951473f-7ff5-40a0-ae7f-c278b4d49c7d",
   "metadata": {},
   "source": [
    "You may wish to create a simulation based on specified, known item difficulties and/or person abilities. This may be done by passing lists to the `manual_diffs` and/or `manual_abilities` arguments (in which case, there is no need to pass the relevant `item_range`, `person_sd` or `offset` arguments). You may also customise the names of the items and/or persons by passing lists of the correct length to the `manual_person_names` and/or `manual_item_names` arguments: this also applies to all simulations.\n",
    "\n",
    "The `manual_diffs` and `manual_abilities` arguments may also be used to generate random item difficulties and/or person abilities according to distributions other than the default uniform (for items) and normal (for persons). This is what is done in the example `slm_sim_2` below: A set of specified, fixed item difficulties (10 items of difficulty -1 logit and 10 of difficulty +1 logit) are passed together with a random uniform distribution of person abilities between -2 and 2 logits. For this simulation, we also set a proportion of 30% missing data (missing completely at random) by passing the argument `missing=0.3`."
   ]
  },
  {
   "cell_type": "code",
   "execution_count": 7,
   "id": "a621e7da-1be8-45a5-8fba-172ae74b4a26",
   "metadata": {},
   "outputs": [],
   "source": [
    "slm_sim_2 = rp.SLM_Sim(no_of_items=20,\n",
    "                       no_of_persons=5000,\n",
    "                       missing=0.3,\n",
    "                       manual_diffs = [-1 for item in range(10)] + [1 for item in range(10)] ,\n",
    "                       manual_abilities = np.random.uniform(-2, 2, 5000))"
   ]
  },
  {
   "cell_type": "markdown",
   "id": "4ca8daa7-0162-4bf9-a8d5-2bafd0d76af4",
   "metadata": {},
   "source": [
    "Save the generated response dataframeto file, and view the first 5 lines. Missing data is shown as `NaN`."
   ]
  },
  {
   "cell_type": "code",
   "execution_count": 8,
   "id": "97356ac3-8db9-4362-a412-a98dccbdeb13",
   "metadata": {},
   "outputs": [
    {
     "data": {
      "text/html": [
       "<div>\n",
       "<style scoped>\n",
       "    .dataframe tbody tr th:only-of-type {\n",
       "        vertical-align: middle;\n",
       "    }\n",
       "\n",
       "    .dataframe tbody tr th {\n",
       "        vertical-align: top;\n",
       "    }\n",
       "\n",
       "    .dataframe thead th {\n",
       "        text-align: right;\n",
       "    }\n",
       "</style>\n",
       "<table border=\"1\" class=\"dataframe\">\n",
       "  <thead>\n",
       "    <tr style=\"text-align: right;\">\n",
       "      <th></th>\n",
       "      <th>Item_1</th>\n",
       "      <th>Item_2</th>\n",
       "      <th>Item_3</th>\n",
       "      <th>Item_4</th>\n",
       "      <th>Item_5</th>\n",
       "      <th>Item_6</th>\n",
       "      <th>Item_7</th>\n",
       "      <th>Item_8</th>\n",
       "      <th>Item_9</th>\n",
       "      <th>Item_10</th>\n",
       "      <th>Item_11</th>\n",
       "      <th>Item_12</th>\n",
       "      <th>Item_13</th>\n",
       "      <th>Item_14</th>\n",
       "      <th>Item_15</th>\n",
       "      <th>Item_16</th>\n",
       "      <th>Item_17</th>\n",
       "      <th>Item_18</th>\n",
       "      <th>Item_19</th>\n",
       "      <th>Item_20</th>\n",
       "    </tr>\n",
       "  </thead>\n",
       "  <tbody>\n",
       "    <tr>\n",
       "      <th>Person_1</th>\n",
       "      <td>1.0</td>\n",
       "      <td>0.0</td>\n",
       "      <td>0.0</td>\n",
       "      <td>1.0</td>\n",
       "      <td>1.0</td>\n",
       "      <td>1.0</td>\n",
       "      <td>1.0</td>\n",
       "      <td>0.0</td>\n",
       "      <td>NaN</td>\n",
       "      <td>1.0</td>\n",
       "      <td>0.0</td>\n",
       "      <td>NaN</td>\n",
       "      <td>0.0</td>\n",
       "      <td>0.0</td>\n",
       "      <td>0.0</td>\n",
       "      <td>0.0</td>\n",
       "      <td>1.0</td>\n",
       "      <td>1.0</td>\n",
       "      <td>NaN</td>\n",
       "      <td>0.0</td>\n",
       "    </tr>\n",
       "    <tr>\n",
       "      <th>Person_2</th>\n",
       "      <td>1.0</td>\n",
       "      <td>1.0</td>\n",
       "      <td>NaN</td>\n",
       "      <td>1.0</td>\n",
       "      <td>1.0</td>\n",
       "      <td>NaN</td>\n",
       "      <td>NaN</td>\n",
       "      <td>1.0</td>\n",
       "      <td>NaN</td>\n",
       "      <td>1.0</td>\n",
       "      <td>NaN</td>\n",
       "      <td>NaN</td>\n",
       "      <td>0.0</td>\n",
       "      <td>NaN</td>\n",
       "      <td>1.0</td>\n",
       "      <td>1.0</td>\n",
       "      <td>0.0</td>\n",
       "      <td>1.0</td>\n",
       "      <td>1.0</td>\n",
       "      <td>1.0</td>\n",
       "    </tr>\n",
       "    <tr>\n",
       "      <th>Person_3</th>\n",
       "      <td>NaN</td>\n",
       "      <td>NaN</td>\n",
       "      <td>1.0</td>\n",
       "      <td>1.0</td>\n",
       "      <td>NaN</td>\n",
       "      <td>1.0</td>\n",
       "      <td>0.0</td>\n",
       "      <td>NaN</td>\n",
       "      <td>1.0</td>\n",
       "      <td>0.0</td>\n",
       "      <td>1.0</td>\n",
       "      <td>NaN</td>\n",
       "      <td>0.0</td>\n",
       "      <td>NaN</td>\n",
       "      <td>0.0</td>\n",
       "      <td>1.0</td>\n",
       "      <td>0.0</td>\n",
       "      <td>NaN</td>\n",
       "      <td>0.0</td>\n",
       "      <td>1.0</td>\n",
       "    </tr>\n",
       "    <tr>\n",
       "      <th>Person_4</th>\n",
       "      <td>1.0</td>\n",
       "      <td>1.0</td>\n",
       "      <td>1.0</td>\n",
       "      <td>1.0</td>\n",
       "      <td>1.0</td>\n",
       "      <td>NaN</td>\n",
       "      <td>NaN</td>\n",
       "      <td>1.0</td>\n",
       "      <td>1.0</td>\n",
       "      <td>1.0</td>\n",
       "      <td>NaN</td>\n",
       "      <td>NaN</td>\n",
       "      <td>0.0</td>\n",
       "      <td>0.0</td>\n",
       "      <td>NaN</td>\n",
       "      <td>0.0</td>\n",
       "      <td>1.0</td>\n",
       "      <td>1.0</td>\n",
       "      <td>0.0</td>\n",
       "      <td>NaN</td>\n",
       "    </tr>\n",
       "    <tr>\n",
       "      <th>Person_5</th>\n",
       "      <td>NaN</td>\n",
       "      <td>1.0</td>\n",
       "      <td>NaN</td>\n",
       "      <td>NaN</td>\n",
       "      <td>1.0</td>\n",
       "      <td>1.0</td>\n",
       "      <td>1.0</td>\n",
       "      <td>1.0</td>\n",
       "      <td>1.0</td>\n",
       "      <td>1.0</td>\n",
       "      <td>NaN</td>\n",
       "      <td>1.0</td>\n",
       "      <td>1.0</td>\n",
       "      <td>0.0</td>\n",
       "      <td>1.0</td>\n",
       "      <td>0.0</td>\n",
       "      <td>0.0</td>\n",
       "      <td>1.0</td>\n",
       "      <td>0.0</td>\n",
       "      <td>NaN</td>\n",
       "    </tr>\n",
       "  </tbody>\n",
       "</table>\n",
       "</div>"
      ],
      "text/plain": [
       "          Item_1  Item_2  Item_3  Item_4  Item_5  Item_6  Item_7  Item_8  \\\n",
       "Person_1     1.0     0.0     0.0     1.0     1.0     1.0     1.0     0.0   \n",
       "Person_2     1.0     1.0     NaN     1.0     1.0     NaN     NaN     1.0   \n",
       "Person_3     NaN     NaN     1.0     1.0     NaN     1.0     0.0     NaN   \n",
       "Person_4     1.0     1.0     1.0     1.0     1.0     NaN     NaN     1.0   \n",
       "Person_5     NaN     1.0     NaN     NaN     1.0     1.0     1.0     1.0   \n",
       "\n",
       "          Item_9  Item_10  Item_11  Item_12  Item_13  Item_14  Item_15  \\\n",
       "Person_1     NaN      1.0      0.0      NaN      0.0      0.0      0.0   \n",
       "Person_2     NaN      1.0      NaN      NaN      0.0      NaN      1.0   \n",
       "Person_3     1.0      0.0      1.0      NaN      0.0      NaN      0.0   \n",
       "Person_4     1.0      1.0      NaN      NaN      0.0      0.0      NaN   \n",
       "Person_5     1.0      1.0      NaN      1.0      1.0      0.0      1.0   \n",
       "\n",
       "          Item_16  Item_17  Item_18  Item_19  Item_20  \n",
       "Person_1      0.0      1.0      1.0      NaN      0.0  \n",
       "Person_2      1.0      0.0      1.0      1.0      1.0  \n",
       "Person_3      1.0      0.0      NaN      0.0      1.0  \n",
       "Person_4      0.0      1.0      1.0      0.0      NaN  \n",
       "Person_5      0.0      0.0      1.0      0.0      NaN  "
      ]
     },
     "execution_count": 8,
     "metadata": {},
     "output_type": "execute_result"
    }
   ],
   "source": [
    "slm_sim_2.scores.to_csv('slm_sim_2_scores.csv')\n",
    "slm_sim_2.scores.head(5)"
   ]
  },
  {
   "cell_type": "markdown",
   "id": "82f84424-0b99-49fe-a179-3015c9cf2f0e",
   "metadata": {},
   "source": [
    "Save the generating item and person parameters to file, and view all item difficulties and the first 5 lines of the person abilities.\n"
   ]
  },
  {
   "cell_type": "code",
   "execution_count": 9,
   "id": "30e495f5-cb3a-464e-9cbf-527d59bd6012",
   "metadata": {
    "scrolled": true
   },
   "outputs": [
    {
     "data": {
      "text/plain": [
       "Item_1    -1\n",
       "Item_2    -1\n",
       "Item_3    -1\n",
       "Item_4    -1\n",
       "Item_5    -1\n",
       "Item_6    -1\n",
       "Item_7    -1\n",
       "Item_8    -1\n",
       "Item_9    -1\n",
       "Item_10   -1\n",
       "Item_11    1\n",
       "Item_12    1\n",
       "Item_13    1\n",
       "Item_14    1\n",
       "Item_15    1\n",
       "Item_16    1\n",
       "Item_17    1\n",
       "Item_18    1\n",
       "Item_19    1\n",
       "Item_20    1\n",
       "dtype: int32"
      ]
     },
     "execution_count": 9,
     "metadata": {},
     "output_type": "execute_result"
    }
   ],
   "source": [
    "slm_sim_2.diffs.to_csv('slm_sim_2_diffs.csv', header=None)\n",
    "slm_sim_2.diffs"
   ]
  },
  {
   "cell_type": "code",
   "execution_count": 10,
   "id": "00cbc72f-8fa3-485e-b385-f34a664ad138",
   "metadata": {},
   "outputs": [
    {
     "data": {
      "text/plain": [
       "Person_1   -0.426222\n",
       "Person_2    1.671151\n",
       "Person_3    1.130043\n",
       "Person_4    0.781744\n",
       "Person_5    0.436726\n",
       "dtype: float64"
      ]
     },
     "execution_count": 10,
     "metadata": {},
     "output_type": "execute_result"
    }
   ],
   "source": [
    "slm_sim_2.abilities.to_csv('slm_sim_2_abilities.csv', header=None)\n",
    "slm_sim_2.abilities.head(5)"
   ]
  },
  {
   "cell_type": "markdown",
   "id": "4dbd6dd8-b8e6-4bd6-8f7f-9c95c2632659",
   "metadata": {},
   "source": [
    "Create an object `slm_2` of the class `SLM` from the response dataframe for analysis and save the object `slm_sim_2` to file with `pickle`."
   ]
  },
  {
   "cell_type": "code",
   "execution_count": 11,
   "id": "f5899a91-c7dd-44c5-a2db-c2b6ec76da50",
   "metadata": {},
   "outputs": [],
   "source": [
    "slm_2 = rp.SLM(slm_sim_2.scores)\n",
    "\n",
    "with open('slm_sim_2.pickle', 'wb') as handle:\n",
    "    pickle.dump(slm_sim_2, handle, protocol=pickle.HIGHEST_PROTOCOL)"
   ]
  },
  {
   "cell_type": "code",
   "execution_count": null,
   "id": "7bc4f186-2e81-4001-a126-e63fec8d7381",
   "metadata": {},
   "outputs": [],
   "source": []
  }
 ],
 "metadata": {
  "kernelspec": {
   "display_name": "Python 3 (ipykernel)",
   "language": "python",
   "name": "python3"
  },
  "language_info": {
   "codemirror_mode": {
    "name": "ipython",
    "version": 3
   },
   "file_extension": ".py",
   "mimetype": "text/x-python",
   "name": "python",
   "nbconvert_exporter": "python",
   "pygments_lexer": "ipython3",
   "version": "3.11.10"
  }
 },
 "nbformat": 4,
 "nbformat_minor": 5
}
